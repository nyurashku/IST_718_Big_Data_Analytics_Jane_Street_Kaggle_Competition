{
  "nbformat": 4,
  "nbformat_minor": 0,
  "metadata": {
    "colab": {
      "provenance": [],
      "include_colab_link": true
    },
    "kernelspec": {
      "name": "python3",
      "display_name": "Python 3"
    },
    "language_info": {
      "name": "python"
    }
  },
  "cells": [
    {
      "cell_type": "markdown",
      "metadata": {
        "id": "view-in-github",
        "colab_type": "text"
      },
      "source": [
        "<a href=\"https://colab.research.google.com/github/nyurashku/IST_718_Big_Data_Analytics_Jane_Street_Kaggle_Competition/blob/main/ist_718_final_project_shared.ipynb\" target=\"_parent\"><img src=\"https://colab.research.google.com/assets/colab-badge.svg\" alt=\"Open In Colab\"/></a>"
      ]
    },
    {
      "cell_type": "code",
      "source": [
        "pip uninstall gdown"
      ],
      "metadata": {
        "id": "A_Z-rpPBC1p4"
      },
      "execution_count": null,
      "outputs": []
    },
    {
      "cell_type": "code",
      "source": [
        "pip install gdown"
      ],
      "metadata": {
        "id": "ZhR1K0N1C2R3"
      },
      "execution_count": null,
      "outputs": []
    },
    {
      "cell_type": "code",
      "source": [
        "import gdown\n",
        "\n",
        "\n",
        "folder_url = \"https://drive.google.com/drive/folders/19QkjeXvAoBazNl8S2IP9RvBjunQjm9Rh\"\n",
        "\n",
        "try:\n",
        "\n",
        "    gdown.download_folder(\n",
        "        url=folder_url,\n",
        "        remaining_ok=True\n",
        "    )\n",
        "\n",
        "    print(\"Download completed successfully!\")\n",
        "except Exception as e:\n",
        "    print(f\"An error occurred during download: {str(e)}\")"
      ],
      "metadata": {
        "id": "yFhLmTkgC3Ji"
      },
      "execution_count": null,
      "outputs": []
    },
    {
      "cell_type": "code",
      "source": [
        "from pyspark.sql import SparkSession\n",
        "\n",
        "spark = SparkSession.builder.appName('ParquetLoader').getOrCreate()\n",
        "\n",
        "folder_path = \"/content/Jane_Street_Data/train.parquet/\"\n",
        "\n",
        "DF0 = spark.read.parquet(f'{folder_path}partition_id=0/part-0.parquet')\n",
        "DF1 = spark.read.parquet(f'{folder_path}partition_id=1/part-1.parquet')\n",
        "DF2 = spark.read.parquet(f'{folder_path}partition_id=2/part-2.parquet')\n",
        "DF3 = spark.read.parquet(f'{folder_path}partition_id=3/part-3.parquet')\n",
        "DF4 = spark.read.parquet(f'{folder_path}partition_id=4/part-4.parquet')\n",
        "DF5 = spark.read.parquet(f'{folder_path}partition_id=5/part-5.parquet')\n",
        "DF6 = spark.read.parquet(f'{folder_path}partition_id=6/part-6.parquet')\n",
        "DF7 = spark.read.parquet(f'{folder_path}partition_id=7/part-7.parquet')\n",
        "DF8 = spark.read.parquet(f'{folder_path}partition_id=8/part-8.parquet')\n",
        "DF9 = spark.read.parquet(f'{folder_path}partition_id=9/part-9.parquet')\n",
        "\n",
        "combined_df = DF0.union(DF1).union(DF2).union(DF3).union(DF4) \\\n",
        "                 .union(DF5).union(DF6).union(DF7).union(DF8).union(DF9)\n",
        "\n",
        "print(f'Combined DataFrame row count: {combined_df.count()}')\n",
        "combined_df.show(30)"
      ],
      "metadata": {
        "id": "WoxbFUyjC48e"
      },
      "execution_count": null,
      "outputs": []
    }
  ]
}