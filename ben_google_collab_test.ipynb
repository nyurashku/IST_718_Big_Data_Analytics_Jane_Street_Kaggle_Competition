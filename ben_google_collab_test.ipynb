{
  "nbformat": 4,
  "nbformat_minor": 0,
  "metadata": {
    "colab": {
      "provenance": [],
      "authorship_tag": "ABX9TyO7Y7qhwungmPxsXG95KtNz",
      "include_colab_link": true
    },
    "kernelspec": {
      "name": "python3",
      "display_name": "Python 3"
    },
    "language_info": {
      "name": "python"
    }
  },
  "cells": [
    {
      "cell_type": "markdown",
      "metadata": {
        "id": "view-in-github",
        "colab_type": "text"
      },
      "source": [
        "<a href=\"https://colab.research.google.com/github/nyurashku/IST_718_Big_Data_Analytics_Jane_Street_Kaggle_Competition/blob/main/ben_google_collab_test.ipynb\" target=\"_parent\"><img src=\"https://colab.research.google.com/assets/colab-badge.svg\" alt=\"Open In Colab\"/></a>"
      ]
    },
    {
      "cell_type": "code",
      "source": [
        "from google.colab import drive\n",
        "\n",
        "# Mount only the Jane_Street_Data folder\n",
        "drive.mount(\"/content/drive/\", force_remount=True)\n",
        "folder_path_p0 = \"/content/drive/MyDrive/Jane_Street_Data/train.parquet/partition_id=0/part-0.parquet\"\n",
        "\n",
        "\n"
      ],
      "metadata": {
        "colab": {
          "base_uri": "https://localhost:8080/"
        },
        "id": "kkFo8pIdFWuB",
        "outputId": "e3e70583-2c02-4be7-9615-962dca6724f4"
      },
      "execution_count": 6,
      "outputs": [
        {
          "output_type": "stream",
          "name": "stdout",
          "text": [
            "Mounted at /content/drive/\n"
          ]
        }
      ]
    },
    {
      "cell_type": "code",
      "source": [
        "from pyspark.sql import SparkSession\n",
        "\n",
        "# Initialize Spark Session\n",
        "spark = SparkSession.builder.appName(\"ReadLargeParquet\").getOrCreate()\n",
        "\n",
        "# Read all Parquet files in the Jane_Street_Data folder\n",
        "DF1 = spark.read.parquet(folder_path_p0)\n",
        "\n",
        "# Show schema and first few rows\n",
        "DF1.printSchema()\n",
        "DF1.show(5)\n"
      ],
      "metadata": {
        "colab": {
          "base_uri": "https://localhost:8080/"
        },
        "id": "6iFk-g2XIcrq",
        "outputId": "93ce8d85-58b9-44f5-f1f0-9dd2e727e97b"
      },
      "execution_count": 7,
      "outputs": [
        {
          "output_type": "stream",
          "name": "stdout",
          "text": [
            "root\n",
            " |-- date_id: short (nullable = true)\n",
            " |-- time_id: short (nullable = true)\n",
            " |-- symbol_id: byte (nullable = true)\n",
            " |-- weight: float (nullable = true)\n",
            " |-- feature_00: float (nullable = true)\n",
            " |-- feature_01: float (nullable = true)\n",
            " |-- feature_02: float (nullable = true)\n",
            " |-- feature_03: float (nullable = true)\n",
            " |-- feature_04: float (nullable = true)\n",
            " |-- feature_05: float (nullable = true)\n",
            " |-- feature_06: float (nullable = true)\n",
            " |-- feature_07: float (nullable = true)\n",
            " |-- feature_08: float (nullable = true)\n",
            " |-- feature_09: byte (nullable = true)\n",
            " |-- feature_10: byte (nullable = true)\n",
            " |-- feature_11: short (nullable = true)\n",
            " |-- feature_12: float (nullable = true)\n",
            " |-- feature_13: float (nullable = true)\n",
            " |-- feature_14: float (nullable = true)\n",
            " |-- feature_15: float (nullable = true)\n",
            " |-- feature_16: float (nullable = true)\n",
            " |-- feature_17: float (nullable = true)\n",
            " |-- feature_18: float (nullable = true)\n",
            " |-- feature_19: float (nullable = true)\n",
            " |-- feature_20: float (nullable = true)\n",
            " |-- feature_21: float (nullable = true)\n",
            " |-- feature_22: float (nullable = true)\n",
            " |-- feature_23: float (nullable = true)\n",
            " |-- feature_24: float (nullable = true)\n",
            " |-- feature_25: float (nullable = true)\n",
            " |-- feature_26: float (nullable = true)\n",
            " |-- feature_27: float (nullable = true)\n",
            " |-- feature_28: float (nullable = true)\n",
            " |-- feature_29: float (nullable = true)\n",
            " |-- feature_30: float (nullable = true)\n",
            " |-- feature_31: float (nullable = true)\n",
            " |-- feature_32: float (nullable = true)\n",
            " |-- feature_33: float (nullable = true)\n",
            " |-- feature_34: float (nullable = true)\n",
            " |-- feature_35: float (nullable = true)\n",
            " |-- feature_36: float (nullable = true)\n",
            " |-- feature_37: float (nullable = true)\n",
            " |-- feature_38: float (nullable = true)\n",
            " |-- feature_39: float (nullable = true)\n",
            " |-- feature_40: float (nullable = true)\n",
            " |-- feature_41: float (nullable = true)\n",
            " |-- feature_42: float (nullable = true)\n",
            " |-- feature_43: float (nullable = true)\n",
            " |-- feature_44: float (nullable = true)\n",
            " |-- feature_45: float (nullable = true)\n",
            " |-- feature_46: float (nullable = true)\n",
            " |-- feature_47: float (nullable = true)\n",
            " |-- feature_48: float (nullable = true)\n",
            " |-- feature_49: float (nullable = true)\n",
            " |-- feature_50: float (nullable = true)\n",
            " |-- feature_51: float (nullable = true)\n",
            " |-- feature_52: float (nullable = true)\n",
            " |-- feature_53: float (nullable = true)\n",
            " |-- feature_54: float (nullable = true)\n",
            " |-- feature_55: float (nullable = true)\n",
            " |-- feature_56: float (nullable = true)\n",
            " |-- feature_57: float (nullable = true)\n",
            " |-- feature_58: float (nullable = true)\n",
            " |-- feature_59: float (nullable = true)\n",
            " |-- feature_60: float (nullable = true)\n",
            " |-- feature_61: float (nullable = true)\n",
            " |-- feature_62: float (nullable = true)\n",
            " |-- feature_63: float (nullable = true)\n",
            " |-- feature_64: float (nullable = true)\n",
            " |-- feature_65: float (nullable = true)\n",
            " |-- feature_66: float (nullable = true)\n",
            " |-- feature_67: float (nullable = true)\n",
            " |-- feature_68: float (nullable = true)\n",
            " |-- feature_69: float (nullable = true)\n",
            " |-- feature_70: float (nullable = true)\n",
            " |-- feature_71: float (nullable = true)\n",
            " |-- feature_72: float (nullable = true)\n",
            " |-- feature_73: float (nullable = true)\n",
            " |-- feature_74: float (nullable = true)\n",
            " |-- feature_75: float (nullable = true)\n",
            " |-- feature_76: float (nullable = true)\n",
            " |-- feature_77: float (nullable = true)\n",
            " |-- feature_78: float (nullable = true)\n",
            " |-- responder_0: float (nullable = true)\n",
            " |-- responder_1: float (nullable = true)\n",
            " |-- responder_2: float (nullable = true)\n",
            " |-- responder_3: float (nullable = true)\n",
            " |-- responder_4: float (nullable = true)\n",
            " |-- responder_5: float (nullable = true)\n",
            " |-- responder_6: float (nullable = true)\n",
            " |-- responder_7: float (nullable = true)\n",
            " |-- responder_8: float (nullable = true)\n",
            "\n",
            "+-------+-------+---------+----------+----------+----------+----------+----------+----------+----------+----------+----------+-----------+----------+----------+----------+-----------+------------+-----------+----------+-----------+----------+----------+----------+----------+----------+-----------+-----------+----------+-----------+----------+----------+------------+-----------+------------+----------+----------+----------+-----------+-----------+----------+------------+------------+----------+----------+----------+----------+-----------+----------+----------+----------+----------+-------------+-----------+----------+----------+----------+----------+-----------+----------+----------+----------+----------+-----------+-----------+----------+----------+----------+----------+----------+----------+-----------+------------+-----------+----------+-----------+-----------+----------+----------+-----------+-----------+------------+------------+-----------+-----------+-----------+-----------+-----------+-----------+-----------+-----------+-----------+\n",
            "|date_id|time_id|symbol_id|    weight|feature_00|feature_01|feature_02|feature_03|feature_04|feature_05|feature_06|feature_07| feature_08|feature_09|feature_10|feature_11| feature_12|  feature_13| feature_14|feature_15| feature_16|feature_17|feature_18|feature_19|feature_20|feature_21| feature_22| feature_23|feature_24| feature_25|feature_26|feature_27|  feature_28| feature_29|  feature_30|feature_31|feature_32|feature_33| feature_34| feature_35|feature_36|  feature_37|  feature_38|feature_39|feature_40|feature_41|feature_42| feature_43|feature_44|feature_45|feature_46|feature_47|   feature_48| feature_49|feature_50|feature_51|feature_52|feature_53| feature_54|feature_55|feature_56|feature_57|feature_58| feature_59| feature_60|feature_61|feature_62|feature_63|feature_64|feature_65|feature_66| feature_67|  feature_68| feature_69|feature_70| feature_71| feature_72|feature_73|feature_74| feature_75| feature_76|  feature_77|  feature_78|responder_0|responder_1|responder_2|responder_3|responder_4|responder_5|responder_6|responder_7|responder_8|\n",
            "+-------+-------+---------+----------+----------+----------+----------+----------+----------+----------+----------+----------+-----------+----------+----------+----------+-----------+------------+-----------+----------+-----------+----------+----------+----------+----------+----------+-----------+-----------+----------+-----------+----------+----------+------------+-----------+------------+----------+----------+----------+-----------+-----------+----------+------------+------------+----------+----------+----------+----------+-----------+----------+----------+----------+----------+-------------+-----------+----------+----------+----------+----------+-----------+----------+----------+----------+----------+-----------+-----------+----------+----------+----------+----------+----------+----------+-----------+------------+-----------+----------+-----------+-----------+----------+----------+-----------+-----------+------------+------------+-----------+-----------+-----------+-----------+-----------+-----------+-----------+-----------+-----------+\n",
            "|      0|      0|        1| 3.8890383|      NULL|      NULL|      NULL|      NULL|      NULL| 0.8510327|0.24297127|0.26340032|-0.89168686|        11|         7|        76|  -0.883028| 0.003067292| -0.7447033|      NULL|-0.16958605|      NULL|-1.3359376|-1.7078027|0.91013026|      NULL|  1.6364306|  1.5221335|-1.5513983|-0.22962728|      NULL|      NULL|   1.3783009| -0.2837122| 0.123195924|      NULL|      NULL|      NULL| 0.28117955| 0.26916322|0.34902847|-0.012596331| -0.22593237|      NULL|-1.0736024|      NULL|      NULL|-0.18171607|      NULL|      NULL|      NULL|0.56402075|    2.0885055| 0.83202195|      NULL|0.20479727|      NULL|      NULL|-0.80810255|      NULL|-2.0376825| 0.7276608|      NULL| -0.9891182|-0.34521252|-1.3622401|      NULL|      NULL|      NULL|      NULL|      NULL| -1.2511038| -0.11025166|-0.49115717|-1.0226904| 0.15224081|-0.65986395|      NULL|      NULL|-0.26141173|-0.21148589|  -0.3355564| -0.28149846| 0.73848903|-0.06955574|  1.3808746|   2.005353| 0.18601812|  1.2183683| 0.77598065|  0.3469987|0.095503904|\n",
            "|      0|      0|        7| 1.3706135|      NULL|      NULL|      NULL|      NULL|      NULL|0.67696106|0.15198377|0.19246513| -0.5217288|        11|         7|        76| -0.8653066| -0.22562928| -0.5821631|      NULL| 0.31746668|      NULL|-1.2500162|-1.6829287| 1.4127568|      NULL|  0.5203782|  0.7441318|-0.7886583| 0.64177644|      NULL|      NULL|  0.22720012|  0.5809068|   1.1288794|      NULL|      NULL|      NULL| -1.5122856| -1.4143571|-1.8233217| -0.08276345| -0.18411872|      NULL|      NULL|      NULL|      NULL|       NULL|      NULL|      NULL|      NULL|-10.835207|-0.0027040143|-0.62183553|      NULL| 1.1728357|      NULL|      NULL| -1.6258625|      NULL|-1.4100174| 1.0630132|      NULL| 0.88835526| 0.46799383|-1.3622401|      NULL|      NULL|      NULL|      NULL|      NULL|  -1.065759| 0.013321621| -0.5928546| -1.052685|-0.39372626|  -0.741603|      NULL|      NULL|-0.28120655|-0.18289371| -0.24556544| -0.30244073|  2.9658892|  1.1900771|  -0.523998|  3.8499207|  2.6269813|        5.0|  0.7036654| 0.21668315|  0.7786386|\n",
            "|      0|      0|        9| 2.2856984|      NULL|      NULL|      NULL|      NULL|      NULL| 1.0562848|0.18722738|0.24990147|-0.77305025|        11|         7|        76| -0.6757187| -0.19940446|-0.58679765|      NULL|-0.81490916|      NULL|-1.2967815|-2.0402343|0.63958913|      NULL|  1.5973587| 0.65751445|-1.3501476|  0.3642153|      NULL|      NULL|-0.017751021|-0.31736118|-0.122379154|      NULL|      NULL|      NULL| -0.3209214|-0.95808995|-2.4365892| 0.070998885|  -0.2452394|      NULL|      NULL|      NULL|      NULL|       NULL|      NULL|      NULL|      NULL|-1.4206319|   -3.5151367|   -4.67776|      NULL|0.53589714|      NULL|      NULL|-0.72541994|      NULL|-2.2941704| 1.7645512|      NULL|-0.12078866|-0.06345806|-1.3622401|      NULL|      NULL|      NULL|      NULL|      NULL| -0.8826045|-0.072482385| -0.6179337|-0.8632298| -0.2418919| -0.7099186|      NULL|      NULL|  0.3771314| 0.30072352|-0.106842026|-0.096792005| -0.8644876|-0.28030258|-0.32669708| 0.37578142|  1.2712915| 0.09979264|   2.109352| 0.67088133|   0.772828|\n",
            "|      0|      0|       10| 0.6906061|      NULL|      NULL|      NULL|      NULL|      NULL| 1.1393661|0.27332762|  0.306549| -1.2622234|        42|         5|       150| -0.6940079|    3.004091| 0.11480871|      NULL|-0.25188243|      NULL|-1.9020088|-0.9794475|0.24116518|      NULL| -0.3923591|-0.22469944|-2.1293967|-0.85528743|      NULL|      NULL|   0.4041419| -0.5781557|  0.10570245|      NULL|      NULL|      NULL|  0.5441383|-0.08709118| -1.500147| -0.20128784|-0.038042028|      NULL|      NULL|      NULL|      NULL|       NULL|      NULL|      NULL|      NULL|0.38207364|    2.6691353| 0.61171097|      NULL| 2.4134147|      NULL|      NULL|  1.3132033|      NULL|-0.8101246| 2.9390223|      NULL|  3.9888012|  1.8346611|-1.3622401|      NULL|      NULL|      NULL|      NULL|      NULL| -0.6975946|   1.0743085|-0.20692879|-0.5306017|   4.765215|  0.5715536|      NULL|      NULL| -0.2268911|-0.25141183| -0.21552159| -0.29624408| 0.40849894| 0.22399198|  2.2948878|  1.0974443|  1.2258724|   1.225376|  1.1141373| 0.77519864|  -1.379516|\n",
            "|      0|      0|       14|0.44056964|      NULL|      NULL|      NULL|      NULL|      NULL| 0.9552002|0.26240355| 0.3444567| -0.6138126|        44|         3|        16|-0.94735146|-0.030018453|-0.50237876|      NULL| 0.64608586|      NULL| -1.844685|-1.5865602|-0.1820242|      NULL|-0.96994925|  -0.673813|-1.2821317| -1.3998941|      NULL|      NULL|  0.04381466|-0.32022476|-0.031712715|      NULL|      NULL|      NULL|-0.08842038| -0.9950031|-2.6353362| -0.19646141|   -0.618719|      NULL|      NULL|      NULL|      NULL|       NULL|      NULL|      NULL|      NULL|-2.0145998|   -2.3210764| -3.7112646|      NULL| 1.2539024|      NULL|      NULL| 0.47619522|      NULL|-0.7717324|  2.843421|      NULL|  1.3798147| 0.41182697|-1.3622401|      NULL|      NULL|      NULL|      NULL|      NULL|-0.94860137|  -0.1368141|-0.44770363|-1.1417614|0.099630676|-0.66192806|      NULL|      NULL|  3.6780763|  2.7935815|   2.6182497|   3.4181335|-0.37338656| -0.5027641|-0.34802118|  -3.928148| -1.5913664|       -5.0| -3.5728202| -1.0891235|       -5.0|\n",
            "+-------+-------+---------+----------+----------+----------+----------+----------+----------+----------+----------+----------+-----------+----------+----------+----------+-----------+------------+-----------+----------+-----------+----------+----------+----------+----------+----------+-----------+-----------+----------+-----------+----------+----------+------------+-----------+------------+----------+----------+----------+-----------+-----------+----------+------------+------------+----------+----------+----------+----------+-----------+----------+----------+----------+----------+-------------+-----------+----------+----------+----------+----------+-----------+----------+----------+----------+----------+-----------+-----------+----------+----------+----------+----------+----------+----------+-----------+------------+-----------+----------+-----------+-----------+----------+----------+-----------+-----------+------------+------------+-----------+-----------+-----------+-----------+-----------+-----------+-----------+-----------+-----------+\n",
            "only showing top 5 rows\n",
            "\n"
          ]
        }
      ]
    }
  ]
}