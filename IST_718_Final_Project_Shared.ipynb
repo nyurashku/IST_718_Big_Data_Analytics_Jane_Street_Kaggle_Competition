{
  "nbformat": 4,
  "nbformat_minor": 0,
  "metadata": {
    "colab": {
      "provenance": [],
      "include_colab_link": true
    },
    "kernelspec": {
      "name": "python3",
      "display_name": "Python 3"
    },
    "language_info": {
      "name": "python"
    }
  },
  "cells": [
    {
      "cell_type": "markdown",
      "metadata": {
        "id": "view-in-github",
        "colab_type": "text"
      },
      "source": [
        "<a href=\"https://colab.research.google.com/github/nyurashku/IST_718_Big_Data_Analytics_Jane_Street_Kaggle_Competition/blob/main/IST_718_Final_Project_Shared.ipynb\" target=\"_parent\"><img src=\"https://colab.research.google.com/assets/colab-badge.svg\" alt=\"Open In Colab\"/></a>"
      ]
    },
    {
      "cell_type": "code",
      "source": [
        "!pip install --upgrade --quiet gdown\n",
        "\n",
        "!gdown --folder https://drive.google.com/drive/folders/1ImKJ5L2hhs8G0CnIKWZfRPRjp_tgo0OS -O /content/Jane_Street_Data/\n",
        "\n",
        "!ls -lh /content/Jane_Street_Data/"
      ],
      "metadata": {
        "id": "HjUih1sIbhW1",
        "colab": {
          "base_uri": "https://localhost:8080/"
        },
        "outputId": "cffe329f-c423-47f4-c19b-43e7e29264f3"
      },
      "execution_count": null,
      "outputs": [
        {
          "output_type": "stream",
          "name": "stdout",
          "text": [
            "Retrieving folder contents\n",
            "Retrieving folder 1CrYi2PfG05ioEBDcyjxEJmdgjIXug1D4 train.parquet\n",
            "Retrieving folder 1Me4BaVd6PpFH51-9IFHBaBWGBkJ8LDLb partition_id=0\n",
            "Processing file 1myZKJYgddmokQVujrCMq2GGdTot1OAMp part-0.parquet\n",
            "Retrieving folder 197lpcH58u0XcunF7G4x9Xhmp5cY2vpuT partition_id=1\n",
            "Processing file 1rj9sslwVG3URYI5QgSENlpseTV69mh03 part-1.parquet\n",
            "Retrieving folder 1zRkGYPVp0EweCy_wSKRS3kT2MxG4cP5Q partition_id=2\n",
            "Processing file 1NeT7C2ro3M1NVQ2kg52IzjLRLCV6pGN3 part-2.parquet\n",
            "Retrieving folder 1TPyT4yFi9ZqGtEpskWdMjZ9aMC2FCSIL partition_id=3\n",
            "Processing file 1APIOSJgAqGbq_YcCha91mUJZKMieW8NE part-3.parquet\n",
            "Retrieving folder 1Voluf2QCVbj0u2PKo1jWD8tECMEaFk8T partition_id=4\n",
            "Processing file 1IqTBRWCKqDW5U7HRD3HHo_6HQFKu2eou part-4.parquet\n",
            "Retrieving folder 1Ct2KN0hlKVt0M-za-uR2szd_AhSMT-9O partition_id=5\n",
            "Processing file 1XY1tPzjcsscRLeOLcQ3GX23K-fHea0YX part-5.parquet\n",
            "Retrieving folder 1iQQfls6e56ycrbKeXDksS9t83XZLH_Qr partition_id=6\n",
            "Processing file 1g3GQBygDtOZJS6y9KLbQ-hcsnR9AK9oN part-6.parquet\n",
            "Retrieving folder 1YfcVIutiPXScqe2gf1b6VuhKSlcRPnlE partition_id=7\n",
            "Processing file 1PsfBzRSOUFsjhV2MXzvle0OH4_wlAJUJ part-7.parquet\n",
            "Retrieving folder 1UIGWZVsQTia5ZhWBtKc13_wx9VfWUF0E partition_id=8\n",
            "Processing file 1mTlCK5qOGsYld_d1t7UL-J4fDE5zlG70 part-8.parquet\n",
            "Retrieving folder 1uGeJA0a3WL72-o7N3AKT_VXCLObojwLn partition_id=9\n",
            "Processing file 1eAokM0fGJgp0_9qU0Re9UPSlkSGAC6Xo part-9.parquet\n",
            "Processing file 1RPgzSJVqZujZsgSqfryUtF1f4lbjbXlH mtcars.parquet\n",
            "Processing file 1jKyzrBqxzCbADg-XQmZEz5_bszY_PbUU Data info.txt\n",
            "Processing file 15aMaIC0fQbmMaoLeNf9ZqFhcX3J9gUeP features.csv\n",
            "Processing file 13RMTXranhe3HkQ6rmwEV5nBoN4iuOgGa lags.parquet\n",
            "Processing file 1Fz-uBuIKSU_m-bo7FqRbpzZgWZZws_5l responders.csv\n",
            "Retrieving folder contents completed\n",
            "Building directory structure\n",
            "Building directory structure completed\n",
            "Downloading...\n",
            "From (original): https://drive.google.com/uc?id=1myZKJYgddmokQVujrCMq2GGdTot1OAMp\n",
            "From (redirected): https://drive.google.com/uc?id=1myZKJYgddmokQVujrCMq2GGdTot1OAMp&confirm=t&uuid=248d47fb-ccf9-4630-8a33-435ff07de957\n",
            "To: /content/Jane_Street_Data/Jane_Street_Data/train.parquet/partition_id=0/part-0.parquet\n",
            "100% 470M/470M [00:03<00:00, 128MB/s]\n",
            "Downloading...\n",
            "From (original): https://drive.google.com/uc?id=1rj9sslwVG3URYI5QgSENlpseTV69mh03\n",
            "From (redirected): https://drive.google.com/uc?id=1rj9sslwVG3URYI5QgSENlpseTV69mh03&confirm=t&uuid=29ac5aed-554a-40d0-aa0a-3ae05ceb063a\n",
            "To: /content/Jane_Street_Data/Jane_Street_Data/train.parquet/partition_id=1/part-1.parquet\n",
            "100% 712M/712M [00:13<00:00, 51.0MB/s]\n",
            "Downloading...\n",
            "From (original): https://drive.google.com/uc?id=1NeT7C2ro3M1NVQ2kg52IzjLRLCV6pGN3\n",
            "From (redirected): https://drive.google.com/uc?id=1NeT7C2ro3M1NVQ2kg52IzjLRLCV6pGN3&confirm=t&uuid=d216003b-7000-47dc-bf93-c31be3b2d587\n",
            "To: /content/Jane_Street_Data/Jane_Street_Data/train.parquet/partition_id=2/part-2.parquet\n",
            "100% 795M/795M [00:16<00:00, 47.9MB/s]\n",
            "Downloading...\n",
            "From (original): https://drive.google.com/uc?id=1APIOSJgAqGbq_YcCha91mUJZKMieW8NE\n",
            "From (redirected): https://drive.google.com/uc?id=1APIOSJgAqGbq_YcCha91mUJZKMieW8NE&confirm=t&uuid=db0d11c8-ae74-475b-b938-98e654913f58\n",
            "To: /content/Jane_Street_Data/Jane_Street_Data/train.parquet/partition_id=3/part-3.parquet\n",
            "100% 1.05G/1.05G [00:16<00:00, 63.8MB/s]\n",
            "Downloading...\n",
            "From (original): https://drive.google.com/uc?id=1IqTBRWCKqDW5U7HRD3HHo_6HQFKu2eou\n",
            "From (redirected): https://drive.google.com/uc?id=1IqTBRWCKqDW5U7HRD3HHo_6HQFKu2eou&confirm=t&uuid=f8087480-933b-43dd-b94f-7d79267db620\n",
            "To: /content/Jane_Street_Data/Jane_Street_Data/train.parquet/partition_id=4/part-4.parquet\n",
            "100% 1.32G/1.32G [00:26<00:00, 49.8MB/s]\n",
            "Downloading...\n",
            "From (original): https://drive.google.com/uc?id=1XY1tPzjcsscRLeOLcQ3GX23K-fHea0YX\n",
            "From (redirected): https://drive.google.com/uc?id=1XY1tPzjcsscRLeOLcQ3GX23K-fHea0YX&confirm=t&uuid=fae4a0b0-5602-4152-ba54-2e68da1ca212\n",
            "To: /content/Jane_Street_Data/Jane_Street_Data/train.parquet/partition_id=5/part-5.parquet\n",
            " 89% 1.25G/1.41G [00:30<00:04, 32.1MB/s]"
          ]
        }
      ]
    },
    {
      "cell_type": "code",
      "source": [
        "from pyspark.sql import SparkSession\n",
        "\n",
        "spark = SparkSession.builder.appName('ParquetLoader').getOrCreate()\n",
        "\n",
        "folder_path = \"/content/Jane_Street_Data/Jane_Street_Data/train.parquet/\"\n",
        "\n",
        "DF0 = spark.read.parquet(f'{folder_path}partition_id=0/part-0.parquet')\n",
        "DF1 = spark.read.parquet(f'{folder_path}partition_id=1/part-1.parquet')\n",
        "DF2 = spark.read.parquet(f'{folder_path}partition_id=2/part-2.parquet')\n",
        "DF3 = spark.read.parquet(f'{folder_path}partition_id=3/part-3.parquet')\n",
        "DF4 = spark.read.parquet(f'{folder_path}partition_id=4/part-4.parquet')\n",
        "DF5 = spark.read.parquet(f'{folder_path}partition_id=5/part-5.parquet')\n",
        "DF6 = spark.read.parquet(f'{folder_path}partition_id=6/part-6.parquet')\n",
        "DF7 = spark.read.parquet(f'{folder_path}partition_id=7/part-7.parquet')\n",
        "DF8 = spark.read.parquet(f'{folder_path}partition_id=8/part-8.parquet')\n",
        "DF9 = spark.read.parquet(f'{folder_path}partition_id=9/part-9.parquet')\n",
        "\n",
        "combined_df = DF0.union(DF1).union(DF2).union(DF3).union(DF4) \\\n",
        "                 .union(DF5).union(DF6).union(DF7).union(DF8).union(DF9)\n",
        "\n",
        "print(f'Combined DataFrame row count: {combined_df.count()}')\n",
        "combined_df.show(30)\n"
      ],
      "metadata": {
        "id": "0aDiJQTAZj6R"
      },
      "execution_count": null,
      "outputs": []
    }
  ]
}